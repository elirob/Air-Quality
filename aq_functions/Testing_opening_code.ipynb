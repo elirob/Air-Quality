{
 "metadata": {
  "name": "",
  "signature": "sha256:23b724ee6d7fecd9df81ef958ca06682106fbb860a5d3e88f90f117ba0a39537"
 },
 "nbformat": 3,
 "nbformat_minor": 0,
 "worksheets": [
  {
   "cells": [
    {
     "cell_type": "heading",
     "level": 4,
     "metadata": {},
     "source": [
      "Testing file opening code"
     ]
    },
    {
     "cell_type": "code",
     "collapsed": false,
     "input": [
      "import numpy as np\n",
      "import pandas as pd"
     ],
     "language": "python",
     "metadata": {},
     "outputs": [],
     "prompt_number": 1
    },
    {
     "cell_type": "code",
     "collapsed": false,
     "input": [
      "test_folder = '../../Ebas_150116_1110/'\n",
      "test_file = 'GB0046R.20030107080000.20040302000000.low_vol_sampler.pm10_mass.pm10.6mo.1w.NO01L_lvs_uk17.NO01L_Thermo_Optical-Sunset_Lab.lev2.nas'"
     ],
     "language": "python",
     "metadata": {},
     "outputs": [],
     "prompt_number": 9
    },
    {
     "cell_type": "code",
     "collapsed": false,
     "input": [
      "for n, string in enumerate(test_file.split('.')):\n",
      "    print(n,string)"
     ],
     "language": "python",
     "metadata": {},
     "outputs": [
      {
       "output_type": "stream",
       "stream": "stdout",
       "text": [
        "(0, 'GB0046R')\n",
        "(1, '20030107080000')\n",
        "(2, '20040302000000')\n",
        "(3, 'low_vol_sampler')\n",
        "(4, 'pm10_mass')\n",
        "(5, 'pm10')\n",
        "(6, '6mo')\n",
        "(7, '1w')\n",
        "(8, 'NO01L_lvs_uk17')\n",
        "(9, 'NO01L_Thermo_Optical-Sunset_Lab')\n",
        "(10, 'lev2')\n",
        "(11, 'nas')\n"
       ]
      }
     ],
     "prompt_number": 16
    },
    {
     "cell_type": "code",
     "collapsed": false,
     "input": [
      "def filename_unpack(filename):\n",
      "    list_of_values = filename.split('.')\n",
      "    start_date = list_of_values[1]\n",
      "    duration = list_of_values[6]\n",
      "    frequency = list_of_values[7]\n",
      "    component = list_of_values[4]\n",
      "    return(start_date,duration,frequency,component)"
     ],
     "language": "python",
     "metadata": {},
     "outputs": [],
     "prompt_number": 19
    },
    {
     "cell_type": "code",
     "collapsed": false,
     "input": [
      "filename_unpack(test_file)"
     ],
     "language": "python",
     "metadata": {},
     "outputs": [
      {
       "metadata": {},
       "output_type": "pyout",
       "prompt_number": 20,
       "text": [
        "('20030107080000', '6mo', '1w', 'pm10_mass')"
       ]
      }
     ],
     "prompt_number": 20
    },
    {
     "cell_type": "code",
     "collapsed": false,
     "input": [],
     "language": "python",
     "metadata": {},
     "outputs": []
    },
    {
     "cell_type": "code",
     "collapsed": false,
     "input": [
      "with open(test_folder+test_file, 'rt') as opened_file:\n",
      "    opened_lines = opened_file.readlines()"
     ],
     "language": "python",
     "metadata": {},
     "outputs": [],
     "prompt_number": 10
    },
    {
     "cell_type": "code",
     "collapsed": false,
     "input": [
      "for n,line in enumerate(opened_lines):\n",
      "    print(n,line)"
     ],
     "language": "python",
     "metadata": {},
     "outputs": [
      {
       "output_type": "stream",
       "stream": "stdout",
       "text": [
        "(0, '45 1001\\r\\n')\n",
        "(1, 'Cape, Niel J\\r\\n')\n",
        "(2, 'NO01L, Norwegian Institute for Air Research, NILU, , Instituttveien 18, , 2007, Kjeller, Norway\\r\\n')\n",
        "(3, 'Cape, Niel J\\r\\n')\n",
        "(4, 'CAMPAIGN EMEP\\r\\n')\n",
        "(5, '1 1\\r\\n')\n",
        "(6, '2003 01 01 2004 03 02\\r\\n')\n",
        "(7, '0\\r\\n')\n",
        "(8, 'days from file reference point\\r\\n')\n",
        "(9, '3\\r\\n')\n",
        "(10, '1 1 1\\r\\n')\n",
        "(11, '999.999999 999.99 9.999\\r\\n')\n",
        "(12, 'end_time of measurement, days from the file reference point\\r\\n')\n",
        "(13, 'pm10_mass, ug/m3\\r\\n')\n",
        "(14, 'numflag pm10_mass, no unit\\r\\n')\n",
        "(15, '0\\r\\n')\n",
        "(16, '28\\r\\n')\n",
        "(17, 'Data definition:              EBAS_1.1\\r\\n')\n",
        "(18, 'Set type code:                TI\\r\\n')\n",
        "(19, 'Timezone:                     UTC\\r\\n')\n",
        "(20, 'Timeref:                      00_00\\r\\n')\n",
        "(21, 'File name:                    GB0046R.20030107080000.20040302000000.low_vol_sampler.pm10_mass.pm10.6mo.1w.NO01L_lvs_uk17.NO01L_Thermo_Optical-Sunset_Lab.lev2.nas\\r\\n')\n",
        "(22, 'File creation:                20150116101026\\r\\n')\n",
        "(23, 'Startdate:                    20030107080000\\r\\n')\n",
        "(24, 'Revision date:                20040302000000\\r\\n')\n",
        "(25, 'Statistics:                   arithmetic mean\\r\\n')\n",
        "(26, 'Period code:                  6mo\\r\\n')\n",
        "(27, 'Resolution code:              1w\\r\\n')\n",
        "(28, 'Station code:                 GB0046R\\r\\n')\n",
        "(29, 'Platform code:                GB0046S\\r\\n')\n",
        "(30, 'Station name:                 CEH Edingburgh\\r\\n')\n",
        "(31, 'Station latitude:             55.86157\\r\\n')\n",
        "(32, 'Station longitude:            -3.20647\\r\\n')\n",
        "(33, 'Station altitude:             180.0m\\r\\n')\n",
        "(34, 'Regime:                       IMG\\r\\n')\n",
        "(35, 'Component:                    pm10_mass\\r\\n')\n",
        "(36, 'Unit:                         ug/m3\\r\\n')\n",
        "(37, 'Matrix:                       pm10\\r\\n')\n",
        "(38, 'Instrument type:              low_vol_sampler\\r\\n')\n",
        "(39, 'Laboratory code:              NO01L\\r\\n')\n",
        "(40, 'Instrument name:              lvs_uk17\\r\\n')\n",
        "(41, 'Method ref:                   NO01L_Thermo_Optical-Sunset_Lab\\r\\n')\n",
        "(42, 'Originator:                   Cape, Niel J, , , , , , , , , \\r\\n')\n",
        "(43, 'Submitter:                    Cape, Niel J, , , , , , , , , \\r\\n')\n",
        "(44, 'starttime endtime PM10 flag_PM10\\r\\n')\n",
        "(45, '  6.333333   7.333333  13.79 0.000\\r\\n')\n",
        "(46, ' 13.333333  14.333333   7.16 0.000\\r\\n')\n",
        "(47, ' 20.333333  21.333333  16.68 0.000\\r\\n')\n",
        "(48, ' 27.333333  28.333333   3.42 0.000\\r\\n')\n",
        "(49, ' 35.333333  36.333333  11.15 0.000\\r\\n')\n",
        "(50, ' 41.333333  42.333333  15.06 0.000\\r\\n')\n",
        "(51, ' 48.333333  49.333333  23.68 0.000\\r\\n')\n",
        "(52, ' 55.333333  56.333333  62.26 0.000\\r\\n')\n",
        "(53, ' 62.333333  63.333333   5.14 0.000\\r\\n')\n",
        "(54, ' 69.333333  70.333333   8.00 0.000\\r\\n')\n",
        "(55, ' 76.333333  77.333333  41.59 0.000\\r\\n')\n",
        "(56, ' 83.333333  84.333333  30.38 0.000\\r\\n')\n",
        "(57, ' 90.333333  91.333333   7.55 0.000\\r\\n')\n",
        "(58, ' 97.333333  98.333333  36.14 0.000\\r\\n')\n",
        "(59, '104.333333 105.333333  77.73 0.000\\r\\n')\n",
        "(60, '111.333333 112.333333  12.85 0.000\\r\\n')\n",
        "(61, '118.333333 119.333333   7.61 0.000\\r\\n')\n",
        "(62, '125.333333 126.333333  11.87 0.000\\r\\n')\n",
        "(63, '132.333333 133.333333   5.27 0.000\\r\\n')\n",
        "(64, '139.333333 140.333333   4.44 0.000\\r\\n')\n",
        "(65, '146.333333 147.333333   9.48 0.000\\r\\n')\n",
        "(66, '156.333333 157.333333  13.40 0.000\\r\\n')\n",
        "(67, '160.333333 161.333333  13.03 0.000\\r\\n')\n",
        "(68, '167.333333 168.333333  11.33 0.000\\r\\n')\n",
        "(69, '174.333333 175.333333   8.16 0.000\\r\\n')\n",
        "(70, '181.333333 182.333333 999.99 0.999\\r\\n')\n"
       ]
      }
     ],
     "prompt_number": 12
    },
    {
     "cell_type": "code",
     "collapsed": false,
     "input": [],
     "language": "python",
     "metadata": {},
     "outputs": []
    }
   ],
   "metadata": {}
  }
 ]
}